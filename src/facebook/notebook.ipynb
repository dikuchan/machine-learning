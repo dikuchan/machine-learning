{
 "cells": [
  {
   "cell_type": "code",
   "execution_count": 98,
   "metadata": {},
   "outputs": [],
   "source": [
    "from pathlib import Path"
   ]
  },
  {
   "cell_type": "code",
   "execution_count": 99,
   "metadata": {},
   "outputs": [],
   "source": [
    "import pandas as pd"
   ]
  },
  {
   "cell_type": "code",
   "execution_count": 100,
   "metadata": {},
   "outputs": [],
   "source": [
    "%matplotlib inline"
   ]
  },
  {
   "cell_type": "code",
   "execution_count": 101,
   "metadata": {},
   "outputs": [],
   "source": [
    "path = Path(\"./data/train/005.csv\")\n",
    "df = pd.read_csv(path, header=None)"
   ]
  },
  {
   "cell_type": "code",
   "execution_count": 102,
   "metadata": {},
   "outputs": [],
   "source": [
    "def rename(df):\n",
    "    columns = {\n",
    "        0: \"popularity\",  # Popularity or support for the source of the document,\n",
    "        1: \"checkins\",  # How many individuals so far visited this place,\n",
    "        2: \"interest\",  # Daily interest of individuals towards source of the post,\n",
    "        3: \"category\",  # Category of the source of the document, e.g. place, institution, brand,\n",
    "        29: \"comments_before\",  # Total number of comments before selected base datetime,\n",
    "        30: \"comments_last_24h\",  # Number of comments in last 24 hours, relative to base datetime,\n",
    "        31: \"comments_last_48h\",  # Number of comments in last 48 to last 24 hours relative to base datetime,\n",
    "        32: \"comments_first_24h\",\n",
    "        # Number of comments in the first 24 hours after the publication of post but before base datetime,\n",
    "        34: \"time\",  # Selected time in order to simulate the scenario,\n",
    "        35: \"length\",  # Character length of the post,\n",
    "        36: \"shares\",  # No. of shares of the post,\n",
    "        37: \"is_promoted\",  # Whether the post is promoted,\n",
    "        38: \"hours\",  # `H` hours, for which we have comments received,\n",
    "        39: \"published_monday\",\n",
    "        40: \"published_tuesday\",\n",
    "        41: \"published_wednesday\",\n",
    "        42: \"published_thursday\",\n",
    "        43: \"published_friday\",\n",
    "        44: \"published_saturday\",\n",
    "        45: \"published_sunday\",\n",
    "        46: \"current_monday\",\n",
    "        47: \"current_tuesday\",\n",
    "        48: \"current_wednesday\",\n",
    "        49: \"current_thursday\",\n",
    "        50: \"current_friday\",\n",
    "        51: \"current_saturday\",\n",
    "        52: \"current_sunday\",\n",
    "        53: \"comments\",  # Target: no. of comments in next `H` hrs.\n",
    "    }\n",
    "    df = df.rename(columns=columns)\n",
    "    df[\"category\"] = df[\"category\"].astype(\"category\")\n",
    "    \n",
    "    return df"
   ]
  },
  {
   "cell_type": "code",
   "execution_count": 103,
   "metadata": {},
   "outputs": [],
   "source": [
    "df = rename(df)"
   ]
  },
  {
   "cell_type": "code",
   "execution_count": 104,
   "metadata": {},
   "outputs": [],
   "source": [
    "X_train, y_train = df.loc[:, df.columns != \"comments\"], df[\"comments\"]"
   ]
  },
  {
   "cell_type": "code",
   "execution_count": 105,
   "metadata": {},
   "outputs": [],
   "source": [
    "from sklearn.linear_model import SGDRegressor\n",
    "from sklearn.pipeline import make_pipeline\n",
    "from sklearn.preprocessing import StandardScaler\n",
    "from sklearn.feature_selection import VarianceThreshold"
   ]
  },
  {
   "cell_type": "code",
   "execution_count": 106,
   "metadata": {},
   "outputs": [],
   "source": [
    "pipeline = make_pipeline(\n",
    "    StandardScaler(),\n",
    "    # VarianceThreshold(),\n",
    "    SGDRegressor(),\n",
    ")"
   ]
  },
  {
   "cell_type": "code",
   "execution_count": 107,
   "metadata": {
    "scrolled": true
   },
   "outputs": [
    {
     "name": "stderr",
     "output_type": "stream",
     "text": [
      "/Users/dmitry/.local/share/virtualenvs/machine-learning-r9zjRSVd/lib/python3.9/site-packages/sklearn/utils/validation.py:1673: FutureWarning: Feature names only support names that are all strings. Got feature names with dtypes: ['int', 'str']. An error will be raised in 1.2.\n",
      "  warnings.warn(\n",
      "/Users/dmitry/.local/share/virtualenvs/machine-learning-r9zjRSVd/lib/python3.9/site-packages/sklearn/utils/validation.py:1673: FutureWarning: Feature names only support names that are all strings. Got feature names with dtypes: ['int', 'str']. An error will be raised in 1.2.\n",
      "  warnings.warn(\n"
     ]
    },
    {
     "data": {
      "text/plain": [
       "Pipeline(steps=[('standardscaler', StandardScaler()),\n",
       "                ('sgdregressor', SGDRegressor())])"
      ]
     },
     "execution_count": 107,
     "metadata": {},
     "output_type": "execute_result"
    }
   ],
   "source": [
    "pipeline.fit(X_train, y_train)"
   ]
  },
  {
   "cell_type": "code",
   "execution_count": 108,
   "metadata": {},
   "outputs": [],
   "source": [
    "path = Path(\"./data/test/001.csv\")\n",
    "df = pd.read_csv(path, header=None)"
   ]
  },
  {
   "cell_type": "code",
   "execution_count": 109,
   "metadata": {},
   "outputs": [],
   "source": [
    "df = rename(df)"
   ]
  },
  {
   "cell_type": "code",
   "execution_count": 110,
   "metadata": {},
   "outputs": [],
   "source": [
    "X_test, y_test = df.loc[:, df.columns != \"comments\"], df[\"comments\"]"
   ]
  },
  {
   "cell_type": "code",
   "execution_count": 111,
   "metadata": {},
   "outputs": [
    {
     "name": "stderr",
     "output_type": "stream",
     "text": [
      "/Users/dmitry/.local/share/virtualenvs/machine-learning-r9zjRSVd/lib/python3.9/site-packages/sklearn/utils/validation.py:1673: FutureWarning: Feature names only support names that are all strings. Got feature names with dtypes: ['int', 'str']. An error will be raised in 1.2.\n",
      "  warnings.warn(\n"
     ]
    },
    {
     "data": {
      "text/plain": [
       "-3.4062643914401024e+16"
      ]
     },
     "execution_count": 111,
     "metadata": {},
     "output_type": "execute_result"
    }
   ],
   "source": [
    "pipeline.score(X_test, y_test)"
   ]
  }
 ],
 "metadata": {
  "kernelspec": {
   "display_name": "Python 3 (ipykernel)",
   "language": "python",
   "name": "python3"
  },
  "language_info": {
   "codemirror_mode": {
    "name": "ipython",
    "version": 3
   },
   "file_extension": ".py",
   "mimetype": "text/x-python",
   "name": "python",
   "nbconvert_exporter": "python",
   "pygments_lexer": "ipython3",
   "version": "3.9.7"
  }
 },
 "nbformat": 4,
 "nbformat_minor": 1
}
